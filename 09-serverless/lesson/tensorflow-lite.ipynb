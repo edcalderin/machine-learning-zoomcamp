{
 "cells": [
  {
   "cell_type": "markdown",
   "metadata": {},
   "source": [
    "# Converting to TF Lite"
   ]
  },
  {
   "cell_type": "code",
   "execution_count": 16,
   "metadata": {},
   "outputs": [],
   "source": [
    "import tensorflow as tf\n",
    "from tensorflow import keras\n",
    "from tensorflow.keras.utils import load_img\n",
    "from tensorflow.keras.applications.xception import preprocess_input\n",
    "import numpy as np"
   ]
  },
  {
   "cell_type": "code",
   "execution_count": 2,
   "metadata": {},
   "outputs": [
    {
     "name": "stdout",
     "output_type": "stream",
     "text": [
      "/home/erick/miniconda3/envs/ml-zoomcamp/lib/python3.11/site-packages/tensorflow/__init__.py\n",
      "2.14.0\n"
     ]
    }
   ],
   "source": [
    "print(tf.__file__)\n",
    "print(tf.__version__)"
   ]
  },
  {
   "cell_type": "code",
   "execution_count": 3,
   "metadata": {},
   "outputs": [],
   "source": [
    "MODEL_PATH: str = 'xception_v4_08_0.894.h5'"
   ]
  },
  {
   "cell_type": "code",
   "execution_count": 4,
   "metadata": {},
   "outputs": [],
   "source": [
    "model = keras.models.load_model(MODEL_PATH)"
   ]
  },
  {
   "cell_type": "code",
   "execution_count": 10,
   "metadata": {},
   "outputs": [
    {
     "name": "stdout",
     "output_type": "stream",
     "text": [
      "--2023-11-08 15:16:12--  https://contents.mediadecathlon.com/p2163297/k/pantalon-de-mujer-para-trekking-en-el-desierto-anti-rayos-uv-ecodisenado-desert-900-beige.jpg\n",
      "Resolving contents.mediadecathlon.com (contents.mediadecathlon.com)... 181.54.160.81, 181.54.160.9\n",
      "Connecting to contents.mediadecathlon.com (contents.mediadecathlon.com)|181.54.160.81|:443... connected.\n"
     ]
    },
    {
     "name": "stdout",
     "output_type": "stream",
     "text": [
      "HTTP request sent, awaiting response... 200 OK\n",
      "Length: 206457 (202K) [image/jpeg]\n",
      "Saving to: ‘pants.png’\n",
      "\n",
      "pants.png           100%[===================>] 201.62K  --.-KB/s    in 0.02s   \n",
      "\n",
      "2023-11-08 15:16:12 (8.33 MB/s) - ‘pants.png’ saved [206457/206457]\n",
      "\n"
     ]
    }
   ],
   "source": [
    "!wget https://contents.mediadecathlon.com/p2163297/k$ee97c140e7a499e050c27b2128392ac6/pantalon-de-mujer-para-trekking-en-el-desierto-anti-rayos-uv-ecodisenado-desert-900-beige.jpg -O pants.png"
   ]
  },
  {
   "cell_type": "code",
   "execution_count": 19,
   "metadata": {},
   "outputs": [],
   "source": [
    "img = load_img('pants.png', target_size=(299,299))\n",
    "X = np.array(img)\n",
    "X = np.expand_dims(X, 0)\n",
    "X = preprocess_input(X)"
   ]
  },
  {
   "cell_type": "code",
   "execution_count": 22,
   "metadata": {},
   "outputs": [],
   "source": [
    "classes = [\n",
    "    'dress',\n",
    "    'hat',\n",
    "    'longsleeve',\n",
    "\t'outwear',\n",
    "    'pants',\n",
    "\t'shirt',\n",
    "    'shoes',\n",
    "    'shorts',\n",
    "    'skirt',\n",
    "    't-shirt']"
   ]
  },
  {
   "cell_type": "code",
   "execution_count": 27,
   "metadata": {},
   "outputs": [
    {
     "name": "stdout",
     "output_type": "stream",
     "text": [
      "1/1 [==============================] - 0s 230ms/step\n"
     ]
    },
    {
     "data": {
      "text/plain": [
       "array([-1.7161683, -2.4631023, -1.2729362,  1.1031336,  7.054929 ,\n",
       "        0.9493518, -2.377652 ,  1.9362751, -3.6682243, -3.1740787],\n",
       "      dtype=float32)"
      ]
     },
     "execution_count": 27,
     "metadata": {},
     "output_type": "execute_result"
    }
   ],
   "source": [
    "pred = model.predict(X)[0]\n",
    "pred"
   ]
  },
  {
   "cell_type": "code",
   "execution_count": 29,
   "metadata": {},
   "outputs": [
    {
     "data": {
      "text/plain": [
       "[('pants', 7.054929),\n",
       " ('shorts', 1.9362751),\n",
       " ('outwear', 1.1031336),\n",
       " ('shirt', 0.9493518),\n",
       " ('longsleeve', -1.2729362),\n",
       " ('dress', -1.7161683),\n",
       " ('shoes', -2.377652),\n",
       " ('hat', -2.4631023),\n",
       " ('t-shirt', -3.1740787),\n",
       " ('skirt', -3.6682243)]"
      ]
     },
     "execution_count": 29,
     "metadata": {},
     "output_type": "execute_result"
    }
   ],
   "source": [
    "sorted(zip(classes, pred), key=lambda x:-x[1])"
   ]
  },
  {
   "cell_type": "markdown",
   "metadata": {},
   "source": [
    "## Using TF-Lite"
   ]
  },
  {
   "cell_type": "code",
   "execution_count": 30,
   "metadata": {},
   "outputs": [],
   "source": [
    "converter = tf.lite.TFLiteConverter.from_keras_model(model)"
   ]
  },
  {
   "cell_type": "code",
   "execution_count": 33,
   "metadata": {},
   "outputs": [
    {
     "name": "stdout",
     "output_type": "stream",
     "text": [
      "INFO:tensorflow:Assets written to: /tmp/tmpcvxm4tto/assets\n"
     ]
    },
    {
     "name": "stderr",
     "output_type": "stream",
     "text": [
      "INFO:tensorflow:Assets written to: /tmp/tmpcvxm4tto/assets\n",
      "2023-11-08 15:38:21.329563: W tensorflow/compiler/mlir/lite/python/tf_tfl_flatbuffer_helpers.cc:378] Ignored output_format.\n",
      "2023-11-08 15:38:21.330385: W tensorflow/compiler/mlir/lite/python/tf_tfl_flatbuffer_helpers.cc:381] Ignored drop_control_dependency.\n",
      "2023-11-08 15:38:21.357309: I tensorflow/cc/saved_model/reader.cc:83] Reading SavedModel from: /tmp/tmpcvxm4tto\n",
      "2023-11-08 15:38:21.377177: I tensorflow/cc/saved_model/reader.cc:51] Reading meta graph with tags { serve }\n",
      "2023-11-08 15:38:21.377252: I tensorflow/cc/saved_model/reader.cc:146] Reading SavedModel debug info (if present) from: /tmp/tmpcvxm4tto\n",
      "2023-11-08 15:38:21.457789: I tensorflow/compiler/mlir/mlir_graph_optimization_pass.cc:382] MLIR V1 optimization pass is not enabled\n",
      "2023-11-08 15:38:21.481587: I tensorflow/cc/saved_model/loader.cc:233] Restoring SavedModel bundle.\n",
      "2023-11-08 15:38:25.212775: I tensorflow/cc/saved_model/loader.cc:217] Running initialization op on SavedModel bundle at path: /tmp/tmpcvxm4tto\n",
      "2023-11-08 15:38:25.415727: I tensorflow/cc/saved_model/loader.cc:316] SavedModel load for tags { serve }; Status: success: OK. Took 4058338 microseconds.\n",
      "2023-11-08 15:38:26.142685: I tensorflow/compiler/mlir/tensorflow/utils/dump_mlir_util.cc:269] disabling MLIR crash reproducer, set env var `MLIR_CRASH_REPRODUCER_DIRECTORY` to enable.\n"
     ]
    }
   ],
   "source": [
    "tflite_model = converter.convert()\n",
    "\n",
    "# Save the model.\n",
    "with open('clothing_model.tflite', 'wb') as f:\n",
    "  f.write(tflite_model)"
   ]
  },
  {
   "cell_type": "code",
   "execution_count": 35,
   "metadata": {},
   "outputs": [
    {
     "name": "stdout",
     "output_type": "stream",
     "text": [
      "total 163M\n",
      "-rwxrwxrwx 1 erick erick  81M Nov  8 15:38 clothing_model.tflite\n",
      "-rwxrwxrwx 1 erick erick 202K Nov  8 15:16 pants.png\n",
      "-rwxrwxrwx 1 erick erick 7.5K Nov  8 15:41 tensorflow-lite.ipynb\n",
      "-rwxrwxrwx 1 erick erick  83M Nov  8 14:14 xception_v4_08_0.894.h5\n"
     ]
    }
   ],
   "source": [
    "!ls -lh"
   ]
  },
  {
   "cell_type": "code",
   "execution_count": 37,
   "metadata": {},
   "outputs": [],
   "source": [
    "import tensorflow.lite as tflite"
   ]
  },
  {
   "cell_type": "code",
   "execution_count": 38,
   "metadata": {},
   "outputs": [],
   "source": [
    "# Load the TFLite model and allocate tensors.\n",
    "interpreter = tflite.Interpreter(model_path='clothing_model.tflite')\n",
    "interpreter.allocate_tensors()"
   ]
  },
  {
   "cell_type": "code",
   "execution_count": 49,
   "metadata": {},
   "outputs": [
    {
     "data": {
      "text/plain": [
       "[{'name': 'serving_default_input_20:0',\n",
       "  'index': 0,\n",
       "  'shape': array([  1, 299, 299,   3], dtype=int32),\n",
       "  'shape_signature': array([ -1, 299, 299,   3], dtype=int32),\n",
       "  'dtype': numpy.float32,\n",
       "  'quantization': (0.0, 0),\n",
       "  'quantization_parameters': {'scales': array([], dtype=float32),\n",
       "   'zero_points': array([], dtype=int32),\n",
       "   'quantized_dimension': 0},\n",
       "  'sparsity_parameters': {}}]"
      ]
     },
     "execution_count": 49,
     "metadata": {},
     "output_type": "execute_result"
    }
   ],
   "source": [
    "input_details = interpreter.get_input_details()\n",
    "input_details"
   ]
  },
  {
   "cell_type": "code",
   "execution_count": 51,
   "metadata": {},
   "outputs": [
    {
     "data": {
      "text/plain": [
       "[{'name': 'StatefulPartitionedCall:0',\n",
       "  'index': 229,\n",
       "  'shape': array([ 1, 10], dtype=int32),\n",
       "  'shape_signature': array([-1, 10], dtype=int32),\n",
       "  'dtype': numpy.float32,\n",
       "  'quantization': (0.0, 0),\n",
       "  'quantization_parameters': {'scales': array([], dtype=float32),\n",
       "   'zero_points': array([], dtype=int32),\n",
       "   'quantized_dimension': 0},\n",
       "  'sparsity_parameters': {}}]"
      ]
     },
     "execution_count": 51,
     "metadata": {},
     "output_type": "execute_result"
    }
   ],
   "source": [
    "output_details = interpreter.get_output_details()\n",
    "output_details"
   ]
  },
  {
   "cell_type": "code",
   "execution_count": 65,
   "metadata": {},
   "outputs": [],
   "source": [
    "#X1 = tf.random.normal((1,299,299,3))\n",
    "interpreter.set_tensor(input_details[0].get('index'), X)"
   ]
  },
  {
   "cell_type": "code",
   "execution_count": 66,
   "metadata": {},
   "outputs": [],
   "source": [
    "interpreter.invoke()"
   ]
  },
  {
   "cell_type": "code",
   "execution_count": 67,
   "metadata": {},
   "outputs": [
    {
     "data": {
      "text/plain": [
       "array([[-1.7161655, -2.463105 , -1.2729357,  1.1031358,  7.054927 ,\n",
       "         0.9493514, -2.377652 ,  1.9362712, -3.6682208, -3.1740801]],\n",
       "      dtype=float32)"
      ]
     },
     "execution_count": 67,
     "metadata": {},
     "output_type": "execute_result"
    }
   ],
   "source": [
    "pred = interpreter.get_tensor(output_details[0].get('index'))\n",
    "pred"
   ]
  },
  {
   "cell_type": "code",
   "execution_count": 68,
   "metadata": {},
   "outputs": [
    {
     "data": {
      "text/plain": [
       "[('dress', -1.7161655),\n",
       " ('hat', -2.463105),\n",
       " ('longsleeve', -1.2729357),\n",
       " ('outwear', 1.1031358),\n",
       " ('pants', 7.054927),\n",
       " ('shirt', 0.9493514),\n",
       " ('shoes', -2.377652),\n",
       " ('shorts', 1.9362712),\n",
       " ('skirt', -3.6682208),\n",
       " ('t-shirt', -3.1740801)]"
      ]
     },
     "execution_count": 68,
     "metadata": {},
     "output_type": "execute_result"
    }
   ],
   "source": [
    "list(zip(classes, pred[0]))"
   ]
  },
  {
   "cell_type": "markdown",
   "metadata": {},
   "source": [
    "## Removing TF dependence"
   ]
  },
  {
   "cell_type": "code",
   "execution_count": 77,
   "metadata": {},
   "outputs": [],
   "source": [
    "from PIL import Image"
   ]
  },
  {
   "cell_type": "code",
   "execution_count": 103,
   "metadata": {},
   "outputs": [],
   "source": [
    "def preprocess_input(x):\n",
    "    x /= 127.5\n",
    "    x -= 1.0\n",
    "    return x"
   ]
  },
  {
   "cell_type": "code",
   "execution_count": 108,
   "metadata": {},
   "outputs": [
    {
     "data": {
      "text/plain": [
       "[('dress', -1.7161655),\n",
       " ('hat', -2.463105),\n",
       " ('longsleeve', -1.2729357),\n",
       " ('outwear', 1.1031358),\n",
       " ('pants', 7.054927),\n",
       " ('shirt', 0.9493514),\n",
       " ('shoes', -2.377652),\n",
       " ('shorts', 1.9362712),\n",
       " ('skirt', -3.6682208),\n",
       " ('t-shirt', -3.1740801)]"
      ]
     },
     "execution_count": 108,
     "metadata": {},
     "output_type": "execute_result"
    }
   ],
   "source": [
    "with Image.open('./pants.png') as img:\n",
    "    img = img.resize((299,299), Image.NEAREST)\n",
    "\n",
    "X = np.array(img, dtype='float32')\n",
    "X = np.expand_dims(X, 0)\n",
    "\n",
    "X = preprocess_input(X)\n",
    "\n",
    "interpreter.set_tensor(input_details[0].get('index'), X)\n",
    "interpreter.invoke()\n",
    "pred = interpreter.get_tensor(output_details[0].get('index'))\n",
    "list(zip(classes, pred[0]))"
   ]
  },
  {
   "cell_type": "markdown",
   "metadata": {},
   "source": [
    "## Simpler way"
   ]
  },
  {
   "cell_type": "code",
   "execution_count": 119,
   "metadata": {},
   "outputs": [],
   "source": [
    "from keras_image_helper import create_preprocessor\n",
    "import tensorflow.lite as tflite"
   ]
  },
  {
   "cell_type": "code",
   "execution_count": 121,
   "metadata": {},
   "outputs": [],
   "source": [
    "# Load the TFLite model and allocate tensors.\n",
    "interpreter = tflite.Interpreter(model_path='clothing_model.tflite')\n",
    "interpreter.allocate_tensors()\n",
    "\n",
    "input_details = interpreter.get_input_details()\n",
    "output_details = interpreter.get_output_details()\n",
    "\n",
    "preprocessor = create_preprocessor('xception', (299,299))"
   ]
  },
  {
   "cell_type": "code",
   "execution_count": 122,
   "metadata": {},
   "outputs": [
    {
     "data": {
      "text/plain": [
       "[('dress', -1.7161655),\n",
       " ('hat', -2.463105),\n",
       " ('longsleeve', -1.2729357),\n",
       " ('outwear', 1.1031358),\n",
       " ('pants', 7.054927),\n",
       " ('shirt', 0.9493514),\n",
       " ('shoes', -2.377652),\n",
       " ('shorts', 1.9362712),\n",
       " ('skirt', -3.6682208),\n",
       " ('t-shirt', -3.1740801)]"
      ]
     },
     "execution_count": 122,
     "metadata": {},
     "output_type": "execute_result"
    }
   ],
   "source": [
    "X = preprocessor.from_path('pants.png')\n",
    "\n",
    "interpreter.set_tensor(input_details[0].get('index'), X)\n",
    "interpreter.invoke()\n",
    "pred = interpreter.get_tensor(output_details[0].get('index'))\n",
    "\n",
    "list(zip(classes, pred[0]))"
   ]
  },
  {
   "cell_type": "markdown",
   "metadata": {},
   "source": [
    "## Using offical TFLite Runtime"
   ]
  },
  {
   "cell_type": "code",
   "execution_count": 123,
   "metadata": {},
   "outputs": [
    {
     "name": "stdout",
     "output_type": "stream",
     "text": [
      "Collecting tflite-runtime\n",
      "  Downloading tflite_runtime-2.14.0-cp311-cp311-manylinux2014_x86_64.whl.metadata (1.4 kB)\n",
      "Requirement already satisfied: numpy>=1.23.2 in /home/erick/miniconda3/envs/ml-zoomcamp/lib/python3.11/site-packages (from tflite-runtime) (1.23.5)\n",
      "Downloading tflite_runtime-2.14.0-cp311-cp311-manylinux2014_x86_64.whl (2.4 MB)\n",
      "\u001b[2K   \u001b[90m━━━━━━━━━━━━━━━━━━━━━━━━━━━━━━━━━━━━━━━━\u001b[0m \u001b[32m2.4/2.4 MB\u001b[0m \u001b[31m5.1 MB/s\u001b[0m eta \u001b[36m0:00:00\u001b[0m00:01\u001b[0m00:01\u001b[0m\n",
      "\u001b[?25hInstalling collected packages: tflite-runtime\n",
      "Successfully installed tflite-runtime-2.14.0\n"
     ]
    }
   ],
   "source": [
    "!python3 -m pip install tflite-runtime"
   ]
  },
  {
   "cell_type": "code",
   "execution_count": 1,
   "metadata": {},
   "outputs": [],
   "source": [
    "import tflite_runtime.interpreter as tflite\n",
    "from keras_image_helper import create_preprocessor"
   ]
  },
  {
   "cell_type": "code",
   "execution_count": 2,
   "metadata": {},
   "outputs": [
    {
     "name": "stderr",
     "output_type": "stream",
     "text": [
      "INFO: Created TensorFlow Lite XNNPACK delegate for CPU.\n"
     ]
    }
   ],
   "source": [
    "# Load the TFLite model and allocate tensors.\n",
    "interpreter = tflite.Interpreter(model_path='clothing_model.tflite')\n",
    "interpreter.allocate_tensors()\n",
    "\n",
    "input_details = interpreter.get_input_details()\n",
    "output_details = interpreter.get_output_details()\n",
    "\n",
    "preprocessor = create_preprocessor('xception', (299,299))"
   ]
  },
  {
   "cell_type": "code",
   "execution_count": 4,
   "metadata": {},
   "outputs": [],
   "source": [
    "classes = [\n",
    "    'dress',\n",
    "    'hat',\n",
    "    'longsleeve',\n",
    "\t'outwear',\n",
    "    'pants',\n",
    "\t'shirt',\n",
    "    'shoes',\n",
    "    'shorts',\n",
    "    'skirt',\n",
    "    't-shirt']"
   ]
  },
  {
   "cell_type": "code",
   "execution_count": 5,
   "metadata": {},
   "outputs": [
    {
     "data": {
      "text/plain": [
       "[('dress', -1.7161655),\n",
       " ('hat', -2.463105),\n",
       " ('longsleeve', -1.2729357),\n",
       " ('outwear', 1.1031358),\n",
       " ('pants', 7.054927),\n",
       " ('shirt', 0.9493514),\n",
       " ('shoes', -2.377652),\n",
       " ('shorts', 1.9362712),\n",
       " ('skirt', -3.6682208),\n",
       " ('t-shirt', -3.1740801)]"
      ]
     },
     "execution_count": 5,
     "metadata": {},
     "output_type": "execute_result"
    }
   ],
   "source": [
    "X = preprocessor.from_path('pants.png')\n",
    "\n",
    "interpreter.set_tensor(input_details[0].get('index'), X)\n",
    "interpreter.invoke()\n",
    "pred = interpreter.get_tensor(output_details[0].get('index'))\n",
    "\n",
    "list(zip(classes, pred[0]))"
   ]
  }
 ],
 "metadata": {
  "kernelspec": {
   "display_name": "ml-zoomcamp",
   "language": "python",
   "name": "python3"
  },
  "language_info": {
   "codemirror_mode": {
    "name": "ipython",
    "version": 3
   },
   "file_extension": ".py",
   "mimetype": "text/x-python",
   "name": "python",
   "nbconvert_exporter": "python",
   "pygments_lexer": "ipython3",
   "version": "3.1.0"
  }
 },
 "nbformat": 4,
 "nbformat_minor": 2
}
