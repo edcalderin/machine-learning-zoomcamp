{
 "cells": [
  {
   "cell_type": "markdown",
   "metadata": {},
   "source": [
    "## Homework\n",
    "\n",
    "> Note: sometimes your answer doesn't match one of \n",
    "> the options exactly. That's fine. \n",
    "> Select the option that's closest to your solution.\n",
    "\n",
    "\n",
    "In this homework, we will use the Car price dataset like last week. Download it from [here](https://raw.githubusercontent.com/alexeygrigorev/mlbookcamp-code/master/chapter-02-car-price/data.csv).\n",
    "\n",
    "Or you can do it with `wget`:\n",
    "\n",
    "```bash\n",
    "wget https://raw.githubusercontent.com/alexeygrigorev/mlbookcamp-code/master/chapter-02-car-price/data.csv\n",
    "```\n",
    "\n",
    "We'll work with the `MSRP` variable, and we'll transform it to a classification task. \n",
    "\n",
    "For the rest of the homework, you'll need to use only these columns:\n",
    "\n",
    "* `Make`,\n",
    "* `Model`,\n",
    "* `Year`,\n",
    "* `Engine HP`,\n",
    "* `Engine Cylinders`,\n",
    "* `Transmission Type`,\n",
    "* `Vehicle Style`,\n",
    "* `highway MPG`,\n",
    "* `city mpg`\n",
    "* `MSRP`\n",
    "\n",
    "\n",
    "### Data preparation\n",
    "\n",
    "* Keep only the columns above\n",
    "* Lowercase the column names and replace spaces with underscores\n",
    "* Fill the missing values with 0 \n",
    "* Make the price binary (1 if above the average, 0 otherwise) - this will be our target variable `above_average`\n",
    "\n",
    "Split the data into 3 parts: train/validation/test with 60%/20%/20% distribution. Use `train_test_split` function for that with `random_state=1`\n",
    "\n",
    "\n",
    "### Question 1: ROC AUC feature importance\n",
    "\n",
    "ROC AUC could also be used to evaluate feature importance of numerical variables. \n",
    "\n",
    "Let's do that\n",
    "\n",
    "* For each numerical variable, use it as score and compute AUC with the `above_average` variable\n",
    "* Use the training dataset for that\n",
    "\n",
    "\n",
    "If your AUC is < 0.5, invert this variable by putting \"-\" in front\n",
    "\n",
    "(e.g. `-df_train['engine_hp']`)\n",
    "\n",
    "AUC can go below 0.5 if the variable is negatively correlated with the target varialble. You can change the direction of the correlation by negating this variable - then negative correlation becomes positive.\n",
    "\n",
    "Which numerical variable (among the following 4) has the highest AUC?\n",
    "\n",
    "- `engine_hp`\n",
    "- `engine_cylinders`\n",
    "- `highway_mpg`\n",
    "- `city_mpg`\n",
    "\n",
    "### Question 2: Training the model\n",
    "\n",
    "Apply one-hot-encoding using `DictVectorizer` and train the logistic regression with these parameters:\n",
    "\n",
    "```python\n",
    "LogisticRegression(solver='liblinear', C=1.0, max_iter=1000)\n",
    "```\n",
    "\n",
    "What's the AUC of this model on the validation dataset? (round to 3 digits)\n",
    "\n",
    "- 0.678\n",
    "- 0.779\n",
    "- 0.878\n",
    "- 0.979\n",
    "\n",
    "\n",
    "### Question 3: Precision and Recall\n",
    "\n",
    "Now let's compute precision and recall for our model.\n",
    "\n",
    "* Evaluate the model on all thresholds from 0.0 to 1.0 with step 0.01\n",
    "* For each threshold, compute precision and recall\n",
    "* Plot them\n",
    "\n",
    "At which threshold precision and recall curves intersect?\n",
    "\n",
    "* 0.28\n",
    "* 0.48\n",
    "* 0.68\n",
    "* 0.88\n",
    "\n",
    "\n",
    "### Question 4: F1 score\n",
    "\n",
    "Precision and recall are conflicting - when one grows, the other goes down. That's why they are often combined into the F1 score - a metrics that takes into account both\n",
    "\n",
    "This is the formula for computing F1:\n",
    "\n",
    "$$F_1 = 2 \\cdot \\cfrac{P \\cdot R}{P + R}$$\n",
    "\n",
    "Where $P$ is precision and $R$ is recall.\n",
    "\n",
    "Let's compute F1 for all thresholds from 0.0 to 1.0 with increment 0.01\n",
    "\n",
    "At which threshold F1 is maximal?\n",
    "\n",
    "- 0.12\n",
    "- 0.32\n",
    "- 0.52\n",
    "- 0.72\n",
    "\n",
    "\n",
    "### Question 5: 5-Fold CV\n",
    "\n",
    "\n",
    "Use the `KFold` class from Scikit-Learn to evaluate our model on 5 different folds:\n",
    "\n",
    "```\n",
    "KFold(n_splits=5, shuffle=True, random_state=1)\n",
    "```\n",
    "\n",
    "* Iterate over different folds of `df_full_train`\n",
    "* Split the data into train and validation\n",
    "* Train the model on train with these parameters: `LogisticRegression(solver='liblinear', C=1.0, max_iter=1000)`\n",
    "* Use AUC to evaluate the model on validation\n",
    "\n",
    "How large is standard devidation of the scores across different folds?\n",
    "\n",
    "- 0.003\n",
    "- 0.030\n",
    "- 0.090\n",
    "- 0.140\n",
    "\n",
    "\n",
    "### Question 6: Hyperparemeter Tuning\n",
    "\n",
    "Now let's use 5-Fold cross-validation to find the best parameter `C`\n",
    "\n",
    "* Iterate over the following `C` values: `[0.01, 0.1, 0.5, 10]`\n",
    "* Initialize `KFold` with the same parameters as previously\n",
    "* Use these parametes for the model: `LogisticRegression(solver='liblinear', C=C, max_iter=1000)`\n",
    "* Compute the mean score as well as the std (round the mean and std to 3 decimal digits)\n",
    "\n",
    "Which `C` leads to the best mean score?\n",
    "\n",
    "- 0.01\n",
    "- 0.1\n",
    "- 0.5\n",
    "- 10\n",
    "\n",
    "If you have ties, select the score with the lowest std. If you still have ties, select the smallest `C`.\n",
    "\n",
    "\n",
    "## Submit the results\n",
    "\n",
    "- Submit your results here: https://forms.gle/E7Fa3WuBw3HkPQYg6\n",
    "- If your answer doesn't match options exactly, select the closest one.\n",
    "- You can submit your solution multiple times. In this case, only the last submission will be used\n",
    "\n",
    "## Deadline\n",
    "\n",
    "The deadline for submitting is October 9 (Monday), 23:00 CET. After that the form will be closed."
   ]
  },
  {
   "cell_type": "markdown",
   "metadata": {},
   "source": [
    "## Solution"
   ]
  },
  {
   "cell_type": "markdown",
   "metadata": {},
   "source": [
    "### Data preparation"
   ]
  },
  {
   "cell_type": "code",
   "execution_count": 150,
   "metadata": {},
   "outputs": [],
   "source": [
    "import numpy as np\n",
    "import pandas as pd\n",
    "from sklearn.linear_model import LogisticRegression\n",
    "from sklearn.model_selection import train_test_split\n",
    "from sklearn.feature_extraction import DictVectorizer\n",
    "from sklearn.metrics import (auc, \n",
    "                             roc_curve, \n",
    "                             roc_auc_score, \n",
    "                             recall_score, \n",
    "                             precision_score)\n",
    "from sklearn.model_selection import KFold\n",
    "import matplotlib.pyplot as plt"
   ]
  },
  {
   "cell_type": "code",
   "execution_count": 151,
   "metadata": {},
   "outputs": [],
   "source": [
    "data = pd.read_csv('data.csv')\n",
    "\n",
    "COLUMNS = [\n",
    "    'Make',\n",
    "    'Model',\n",
    "    'Year',\n",
    "    'Engine HP',\n",
    "    'Engine Cylinders',\n",
    "    'Transmission Type',\n",
    "    'Vehicle Style',\n",
    "    'highway MPG',\n",
    "    'city mpg',\n",
    "    'MSRP'\n",
    "]\n",
    "\n",
    "data = data[COLUMNS]"
   ]
  },
  {
   "cell_type": "code",
   "execution_count": 152,
   "metadata": {},
   "outputs": [],
   "source": [
    "data.columns = data.columns.str.lower().str.replace(' ', '_')\n",
    "\n",
    "data.fillna(0, inplace=True)\n",
    "\n",
    "data['above_average'] = (data.msrp > data.msrp.mean())*1\n",
    "\n",
    "data.drop('msrp', axis=1, inplace=True)"
   ]
  },
  {
   "cell_type": "code",
   "execution_count": 153,
   "metadata": {},
   "outputs": [],
   "source": [
    "data_full_train, data_test = train_test_split(data, test_size=0.2, random_state=1)\n",
    "data_train, data_val = train_test_split(data_full_train, test_size=0.25, random_state=1)\n",
    "\n",
    "data_train.reset_index(drop=True, inplace=True)\n",
    "data_val.reset_index(drop=True, inplace=True)\n",
    "data_test.reset_index(drop=True, inplace=True)\n",
    "\n",
    "y_train = data_train.above_average.values\n",
    "y_val = data_val.above_average.values\n",
    "y_test = data_test.above_average.values\n",
    "\n",
    "del data_train['above_average']\n",
    "del data_val['above_average']\n",
    "del data_test['above_average']"
   ]
  },
  {
   "cell_type": "markdown",
   "metadata": {},
   "source": [
    "### Question 1"
   ]
  },
  {
   "cell_type": "code",
   "execution_count": 154,
   "metadata": {},
   "outputs": [
    {
     "name": "stdout",
     "output_type": "stream",
     "text": [
      "year 0.688\n",
      "engine_hp 0.917\n",
      "engine_cylinders 0.766\n",
      "highway_mpg 0.633\n",
      "city_mpg 0.673\n"
     ]
    }
   ],
   "source": [
    "NUMERICAL = [\n",
    "    'year',\n",
    "    'engine_hp',\n",
    "    'engine_cylinders',\n",
    "    'highway_mpg',\n",
    "    'city_mpg'\n",
    "]\n",
    "CATEGORICAL = ['make', 'model', 'transmission_type', 'vehicle_style']\n",
    "\n",
    "for c in NUMERICAL:\n",
    "    auc_score = roc_auc_score(y_train, data_train[c])\n",
    "    if auc_score<0.5:\n",
    "        auc_score = roc_auc_score(y_train, -data_train[c])\n",
    "    print(c, round(auc_score, 3))"
   ]
  },
  {
   "cell_type": "markdown",
   "metadata": {},
   "source": [
    "### Question 2"
   ]
  },
  {
   "cell_type": "code",
   "execution_count": 157,
   "metadata": {},
   "outputs": [
    {
     "data": {
      "text/plain": [
       "0.912"
      ]
     },
     "execution_count": 157,
     "metadata": {},
     "output_type": "execute_result"
    }
   ],
   "source": [
    "dv = DictVectorizer()\n",
    "train_dicts = data_train.to_dict(orient='records')\n",
    "X_train = dv.fit_transform(train_dicts)\n",
    "model = LogisticRegression(solver='liblinear', C=1.0, max_iter=1000)\n",
    "model.fit(X_train, y_train)\n",
    "\n",
    "val_dicts = data_val.to_dict(orient='records')\n",
    "X_val = dv.transform(val_dicts)\n",
    "y_pred = model.predict(X_val)\n",
    "auc_score = roc_auc_score(y_val, y_pred)\n",
    "round(auc_score, 3)"
   ]
  },
  {
   "cell_type": "markdown",
   "metadata": {},
   "source": [
    "### Question 3"
   ]
  },
  {
   "cell_type": "code",
   "execution_count": 130,
   "metadata": {},
   "outputs": [],
   "source": [
    "def train(train_dataset, y_train, model):\n",
    "    dv = DictVectorizer()\n",
    "    train_dicts = train_dataset[CATEGORICAL+NUMERICAL].to_dict(orient='records')\n",
    "    X_train = dv.fit_transform(train_dicts)\n",
    "    model.fit(X_train, y_train)\n",
    "    return dv, model\n",
    "\n",
    "def predict(df, dv, model):\n",
    "    dicts = df[CATEGORICAL+NUMERICAL].to_dict(orient='records')\n",
    "    X = dv.transform(dicts)\n",
    "    y_pred = model.predict_proba(X)[:, 1]\n",
    "    return y_pred\n"
   ]
  },
  {
   "cell_type": "code",
   "execution_count": 131,
   "metadata": {},
   "outputs": [
    {
     "name": "stdout",
     "output_type": "stream",
     "text": [
      "CPU times: user 751 ms, sys: 0 ns, total: 751 ms\n",
      "Wall time: 750 ms\n"
     ]
    },
    {
     "name": "stderr",
     "output_type": "stream",
     "text": [
      "/home/erick/miniconda3/envs/ml-zoomcamp/lib/python3.11/site-packages/sklearn/metrics/_classification.py:1344: UndefinedMetricWarning: Precision is ill-defined and being set to 0.0 due to no predicted samples. Use `zero_division` parameter to control this behavior.\n",
      "  _warn_prf(average, modifier, msg_start, len(result))\n"
     ]
    },
    {
     "data": {
      "text/plain": [
       "<matplotlib.legend.Legend at 0x7f9d9143b090>"
      ]
     },
     "execution_count": 131,
     "metadata": {},
     "output_type": "execute_result"
    },
    {
     "data": {
      "image/png": "[encoded data removed]",
      "text/plain": [
       "<Figure size 640x480 with 1 Axes>"
      ]
     },
     "metadata": {},
     "output_type": "display_data"
    }
   ],
   "source": [
    "%%time\n",
    "\n",
    "values = []\n",
    "thresholds = np.arange(0, 1.01, 0.01)\n",
    "\n",
    "dv, model = train(data_train, y_train, model = LogisticRegression(solver='liblinear', C=1.0, max_iter=1000))\n",
    "y_pred = predict(data_val, dv, model)\n",
    "\n",
    "for t in thresholds:\n",
    "    y_pred_t = (y_pred>=t)*1\n",
    "    precision = precision_score(y_val, y_pred_t)\n",
    "    \n",
    "    recall = recall_score(y_val, y_pred_t)\n",
    "    values.append((t, round(precision,3), round(recall,3)))\n",
    "\n",
    "df_precision_recall = pd.DataFrame(values, columns=['threshold', 'precision', 'recall'])\n",
    "\n",
    "plt.plot(df_precision_recall.threshold, df_precision_recall.recall, label='recall')\n",
    "plt.plot(df_precision_recall.threshold, df_precision_recall.precision, label='precision')\n",
    "plt.xlabel('thresholds')\n",
    "plt.legend()"
   ]
  },
  {
   "cell_type": "markdown",
   "metadata": {},
   "source": [
    "### Question 4"
   ]
  },
  {
   "cell_type": "code",
   "execution_count": 132,
   "metadata": {},
   "outputs": [],
   "source": [
    "df_precision_recall['f1'] = 2*(df_precision_recall.precision*df_precision_recall.recall)/(df_precision_recall.precision+df_precision_recall.recall)"
   ]
  },
  {
   "cell_type": "code",
   "execution_count": 133,
   "metadata": {},
   "outputs": [
    {
     "data": {
      "text/html": [
       "<div>\n",
       "<style scoped>\n",
       "    .dataframe tbody tr th:only-of-type {\n",
       "        vertical-align: middle;\n",
       "    }\n",
       "\n",
       "    .dataframe tbody tr th {\n",
       "        vertical-align: top;\n",
       "    }\n",
       "\n",
       "    .dataframe thead th {\n",
       "        text-align: right;\n",
       "    }\n",
       "</style>\n",
       "<table border=\"1\" class=\"dataframe\">\n",
       "  <thead>\n",
       "    <tr style=\"text-align: right;\">\n",
       "      <th></th>\n",
       "      <th>threshold</th>\n",
       "      <th>precision</th>\n",
       "      <th>recall</th>\n",
       "      <th>f1</th>\n",
       "    </tr>\n",
       "  </thead>\n",
       "  <tbody>\n",
       "    <tr>\n",
       "      <th>50</th>\n",
       "      <td>0.5</td>\n",
       "      <td>0.882</td>\n",
       "      <td>0.867</td>\n",
       "      <td>0.874436</td>\n",
       "    </tr>\n",
       "  </tbody>\n",
       "</table>\n",
       "</div>"
      ],
      "text/plain": [
       "    threshold  precision  recall        f1\n",
       "50        0.5      0.882   0.867  0.874436"
      ]
     },
     "execution_count": 133,
     "metadata": {},
     "output_type": "execute_result"
    }
   ],
   "source": [
    "df_precision_recall[df_precision_recall.f1==df_precision_recall.f1.max()]"
   ]
  },
  {
   "cell_type": "markdown",
   "metadata": {},
   "source": [
    "### Question 5"
   ]
  },
  {
   "cell_type": "code",
   "execution_count": 134,
   "metadata": {},
   "outputs": [],
   "source": [
    "kfold = KFold(n_splits=5, shuffle=True, random_state=1)\n",
    "\n",
    "scores= []\n",
    "\n",
    "for train_idx, val_idx in kfold.split(data_full_train):\n",
    "    data_train = data_full_train.iloc[train_idx]\n",
    "    data_val = data_full_train.iloc[val_idx]\n",
    "    y_train = data_train.above_average\n",
    "    y_val = data_val.above_average\n",
    "    dv, model = train(data_train, y_train, model=LogisticRegression(solver='liblinear', C=1.0, max_iter=1000))\n",
    "    y_pred = predict(data_val, dv, model)\n",
    "    auc_score = roc_auc_score(y_val, y_pred)\n",
    "    scores.append(round(auc_score, 3))"
   ]
  },
  {
   "cell_type": "code",
   "execution_count": 135,
   "metadata": {},
   "outputs": [
    {
     "data": {
      "text/plain": [
       "0.003033150177620623"
      ]
     },
     "execution_count": 135,
     "metadata": {},
     "output_type": "execute_result"
    }
   ],
   "source": [
    "np.array(scores).std()"
   ]
  },
  {
   "cell_type": "markdown",
   "metadata": {},
   "source": [
    "### Question 6"
   ]
  },
  {
   "cell_type": "code",
   "execution_count": 149,
   "metadata": {},
   "outputs": [
    {
     "name": "stdout",
     "output_type": "stream",
     "text": [
      "C: 0.01 -- mean: 0.952 -- std: 0.002\n",
      "C:  0.1 -- mean: 0.972 -- std: 0.002\n",
      "C:  0.5 -- mean: 0.979 -- std: 0.001\n",
      "C:   10 -- mean: 0.981 -- std: 0.003\n"
     ]
    }
   ],
   "source": [
    "for C in [0.01, 0.1, 0.5, 10]:\n",
    "\n",
    "    scores= []\n",
    "    kfold = KFold(n_splits=5, shuffle=True, random_state=1)\n",
    "\n",
    "    for train_idx, val_idx in kfold.split(data_full_train):\n",
    "        \n",
    "        df_train = data_full_train.iloc[train_idx]\n",
    "        df_val = data_full_train.iloc[val_idx]\n",
    "       \n",
    "        y_train = df_train.above_average\n",
    "        y_val = df_val.above_average\n",
    "       \n",
    "        dv, model = train(df_train, y_train, model=LogisticRegression(solver='liblinear', C=C, max_iter=1000))\n",
    "        y_pred = predict(df_val, dv, model)\n",
    "       \n",
    "        roc_auc = roc_auc_score(y_val, y_pred)\n",
    "        scores.append(roc_auc)\n",
    "    \n",
    "    scores = np.array(scores)\n",
    "    print('C:', f'{C:>4}', '-- mean:', round(scores.mean(), 3), '-- std:', round(scores.std(), 3))"
   ]
  }
 ],
 "metadata": {
  "kernelspec": {
   "display_name": "ml-zoomcamp",
   "language": "python",
   "name": "python3"
  },
  "language_info": {
   "codemirror_mode": {
    "name": "ipython",
    "version": 3
   },
   "file_extension": ".py",
   "mimetype": "text/x-python",
   "name": "python",
   "nbconvert_exporter": "python",
   "pygments_lexer": "ipython3",
   "version": "3.11.5"
  },
  "orig_nbformat": 4
 },
 "nbformat": 4,
 "nbformat_minor": 2
}
